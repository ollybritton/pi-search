{
 "cells": [
  {
   "cell_type": "code",
   "execution_count": 28,
   "id": "d21609cb-f037-45ae-a971-041c61a9c87e",
   "metadata": {},
   "outputs": [],
   "source": [
    "import matplotlib.pyplot as plt\n",
    "import numpy as np\n",
    "import pandas as pd"
   ]
  },
  {
   "cell_type": "code",
   "execution_count": 29,
   "id": "fdc70266-3c26-48fe-9b94-989336bef2bd",
   "metadata": {},
   "outputs": [
    {
     "data": {
      "text/html": [
       "<div>\n",
       "<style scoped>\n",
       "    .dataframe tbody tr th:only-of-type {\n",
       "        vertical-align: middle;\n",
       "    }\n",
       "\n",
       "    .dataframe tbody tr th {\n",
       "        vertical-align: top;\n",
       "    }\n",
       "\n",
       "    .dataframe thead th {\n",
       "        text-align: right;\n",
       "    }\n",
       "</style>\n",
       "<table border=\"1\" class=\"dataframe\">\n",
       "  <thead>\n",
       "    <tr style=\"text-align: right;\">\n",
       "      <th></th>\n",
       "      <th>num</th>\n",
       "    </tr>\n",
       "  </thead>\n",
       "  <tbody>\n",
       "    <tr>\n",
       "      <th>0</th>\n",
       "      <td>7.314703e+03</td>\n",
       "    </tr>\n",
       "    <tr>\n",
       "      <th>1</th>\n",
       "      <td>4.265735e+00</td>\n",
       "    </tr>\n",
       "    <tr>\n",
       "      <th>2</th>\n",
       "      <td>1.805980e+07</td>\n",
       "    </tr>\n",
       "    <tr>\n",
       "      <th>3</th>\n",
       "      <td>3.964580e-02</td>\n",
       "    </tr>\n",
       "    <tr>\n",
       "      <th>4</th>\n",
       "      <td>1.188699e+03</td>\n",
       "    </tr>\n",
       "    <tr>\n",
       "      <th>...</th>\n",
       "      <td>...</td>\n",
       "    </tr>\n",
       "    <tr>\n",
       "      <th>3845865</th>\n",
       "      <td>1.399798e+02</td>\n",
       "    </tr>\n",
       "    <tr>\n",
       "      <th>3845866</th>\n",
       "      <td>9.931949e+03</td>\n",
       "    </tr>\n",
       "    <tr>\n",
       "      <th>3845867</th>\n",
       "      <td>7.890617e+00</td>\n",
       "    </tr>\n",
       "    <tr>\n",
       "      <th>3845868</th>\n",
       "      <td>6.923474e+03</td>\n",
       "    </tr>\n",
       "    <tr>\n",
       "      <th>3845869</th>\n",
       "      <td>5.539983e+05</td>\n",
       "    </tr>\n",
       "  </tbody>\n",
       "</table>\n",
       "<p>3845870 rows × 1 columns</p>\n",
       "</div>"
      ],
      "text/plain": [
       "                  num\n",
       "0        7.314703e+03\n",
       "1        4.265735e+00\n",
       "2        1.805980e+07\n",
       "3        3.964580e-02\n",
       "4        1.188699e+03\n",
       "...               ...\n",
       "3845865  1.399798e+02\n",
       "3845866  9.931949e+03\n",
       "3845867  7.890617e+00\n",
       "3845868  6.923474e+03\n",
       "3845869  5.539983e+05\n",
       "\n",
       "[3845870 rows x 1 columns]"
      ]
     },
     "execution_count": 29,
     "metadata": {},
     "output_type": "execute_result"
    }
   ],
   "source": [
    "df = pd.read_csv(\"output.csv\")\n",
    "df"
   ]
  },
  {
   "cell_type": "code",
   "execution_count": 34,
   "id": "fe25b977-d609-4cd6-81e4-3f6506ca8f3a",
   "metadata": {},
   "outputs": [
    {
     "data": {
      "text/plain": [
       "(array([3.23185003e-06, 7.38708577e-06, 3.46269646e-05, 8.21813292e-05,\n",
       "        1.75904980e-04, 3.33803938e-04, 6.57450634e-04, 1.06097019e-03,\n",
       "        1.67271323e-03, 2.92297750e-03, 4.30990285e-03, 5.86119087e-03,\n",
       "        8.78970868e-03, 1.18742787e-02, 1.42118296e-02, 1.92922979e-02,\n",
       "        2.65727326e-02, 2.93382728e-02, 3.41084835e-02, 4.65561847e-02,\n",
       "        5.26260607e-02, 5.59400921e-02, 7.66313193e-02, 8.68241126e-02,\n",
       "        7.64877329e-02, 9.20260061e-02, 1.45821535e-01, 1.26940605e-01,\n",
       "        1.43685282e-01, 1.86626873e-01, 1.02970435e-01, 7.82033835e-02,\n",
       "        9.41110110e-02, 7.05586731e-02, 4.87653850e-02, 4.37204671e-02,\n",
       "        2.79241076e-02, 1.64815117e-02, 1.41264165e-02, 1.08026896e-02,\n",
       "        6.22869838e-03, 4.36207415e-03, 2.77523579e-03, 1.35553024e-03,\n",
       "        8.14887899e-04, 5.24021397e-04, 2.27614580e-04, 1.22810301e-04,\n",
       "        4.94011361e-05, 1.06189358e-05]),\n",
       " array([-12.87597691, -12.31279041, -11.7496039 , -11.18641739,\n",
       "        -10.62323089, -10.06004438,  -9.49685787,  -8.93367137,\n",
       "         -8.37048486,  -7.80729835,  -7.24411185,  -6.68092534,\n",
       "         -6.11773883,  -5.55455233,  -4.99136582,  -4.42817931,\n",
       "         -3.86499281,  -3.3018063 ,  -2.73861979,  -2.17543329,\n",
       "         -1.61224678,  -1.04906027,  -0.48587377,   0.07731274,\n",
       "          0.64049925,   1.20368576,   1.76687226,   2.33005877,\n",
       "          2.89324528,   3.45643178,   4.01961829,   4.5828048 ,\n",
       "          5.1459913 ,   5.70917781,   6.27236432,   6.83555082,\n",
       "          7.39873733,   7.96192384,   8.52511034,   9.08829685,\n",
       "          9.65148336,  10.21466986,  10.77785637,  11.34104288,\n",
       "         11.90422938,  12.46741589,  13.0306024 ,  13.5937889 ,\n",
       "         14.15697541,  14.72016192,  15.28334842]),\n",
       " <BarContainer object of 50 artists>)"
      ]
     },
     "execution_count": 34,
     "metadata": {},
     "output_type": "execute_result"
    },
    {
     "data": {
      "image/png": "[encoded data removed]",
      "text/plain": [
       "<Figure size 432x288 with 1 Axes>"
      ]
     },
     "metadata": {
      "needs_background": "light"
     },
     "output_type": "display_data"
    }
   ],
   "source": [
    "plt.hist(np.log10(df[\"num\"]), density=True, bins=50)"
   ]
  },
  {
   "cell_type": "code",
   "execution_count": null,
   "id": "c5e114a0-1efd-41f8-b890-cb5f584e6b9c",
   "metadata": {},
   "outputs": [],
   "source": []
  },
  {
   "cell_type": "code",
   "execution_count": null,
   "id": "8080bd05-8d36-4362-bc0e-43aed64cad13",
   "metadata": {},
   "outputs": [],
   "source": []
  }
 ],
 "metadata": {
  "kernelspec": {
   "display_name": "Python 3",
   "language": "python",
   "name": "python3"
  },
  "language_info": {
   "codemirror_mode": {
    "name": "ipython",
    "version": 3
   },
   "file_extension": ".py",
   "mimetype": "text/x-python",
   "name": "python",
   "nbconvert_exporter": "python",
   "pygments_lexer": "ipython3",
   "version": "3.9.6"
  }
 },
 "nbformat": 4,
 "nbformat_minor": 5
}
